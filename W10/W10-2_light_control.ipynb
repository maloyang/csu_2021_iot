{
  "nbformat": 4,
  "nbformat_minor": 0,
  "metadata": {
    "kernelspec": {
      "display_name": "Python 3",
      "language": "python",
      "name": "python3"
    },
    "language_info": {
      "codemirror_mode": {
        "name": "ipython",
        "version": 3
      },
      "file_extension": ".py",
      "mimetype": "text/x-python",
      "name": "python",
      "nbconvert_exporter": "python",
      "pygments_lexer": "ipython3",
      "version": "3.7.0"
    },
    "colab": {
      "name": "「W10-2_light_control.ipynb」的副本",
      "provenance": []
    }
  },
  "cells": [
    {
      "cell_type": "markdown",
      "metadata": {
        "id": "qIPJvfePKhp9"
      },
      "source": [
        "## W05-1 : MQTT\n",
        "- 控制設備\n",
        "----"
      ]
    },
    {
      "cell_type": "markdown",
      "metadata": {
        "id": "6av5AptXKhqJ"
      },
      "source": [
        "## push message to control"
      ]
    },
    {
      "cell_type": "code",
      "metadata": {
        "colab": {
          "base_uri": "https://localhost:8080/"
        },
        "id": "Y58VtmLKKi8K",
        "outputId": "bd8f5131-ff5c-4598-aef0-3059c6065e46"
      },
      "source": [
        "!pip install paho-mqtt"
      ],
      "execution_count": null,
      "outputs": [
        {
          "output_type": "stream",
          "name": "stdout",
          "text": [
            "Requirement already satisfied: paho-mqtt in /usr/local/lib/python3.7/dist-packages (1.6.1)\n"
          ]
        }
      ]
    },
    {
      "cell_type": "code",
      "metadata": {
        "colab": {
          "base_uri": "https://localhost:8080/"
        },
        "id": "TeAGjF_6KhqL",
        "outputId": "d3bc42b1-c7ab-453f-c52f-6129c0a7bdff"
      },
      "source": [
        "# push mqtt msg\n",
        "\n",
        "import paho.mqtt.client as mqtt\n",
        "import time, json, datetime, sys, os\n",
        "import random\n",
        "\n",
        "def on_connect(client, userdata, flags, rc):\n",
        "    m=\"Connected flags\"+str(flags)+\", result code \"+str(rc)+\", client_id  \"+str(client)\n",
        "    print(m)\n",
        "\n",
        "# some online free broker:\n",
        "#   iot.eclipse.org\n",
        "#   test.mosquitto.org\n",
        "#   broker.hivemq.com\n",
        "broker_address = \"broker.hivemq.com\"\n",
        "broker_port = 1883\n",
        "\n",
        "client1 = mqtt.Client()    #create new instance\n",
        "client1.on_connect = on_connect        #attach function to callback\n",
        "\n",
        "time.sleep(0.5)\n",
        "client1.connect(host=broker_address, port=broker_port, keepalive=60)      #connect to broker\n",
        "topic_str = '/malo/home/light'\n",
        "        \n",
        "client1.loop_start()    #start the loop\n",
        "time.sleep(0.5)\n",
        "print(\"loop start\")\n",
        "\n",
        "#-- start to push data\n",
        "for k in range(1, 7):\n",
        "    value = k%2\n",
        "    print('--> push', topic_str, value)\n",
        "    client1.publish(topic_str, value, qos=1)\n",
        "    time.sleep(5)\n",
        "\n",
        "time.sleep(0.1)\n",
        "\n",
        "client1.disconnect()\n"
      ],
      "execution_count": null,
      "outputs": [
        {
          "output_type": "stream",
          "name": "stdout",
          "text": [
            "Connected flags{'session present': 0}, result code 0, client_id  <paho.mqtt.client.Client object at 0x7f92aa396990>\n",
            "loop start\n",
            "--> push /malo/home/light 1\n",
            "--> push /malo/home/light 0\n",
            "--> push /malo/home/light 1\n",
            "--> push /malo/home/light 0\n",
            "--> push /malo/home/light 1\n",
            "--> push /malo/home/light 0\n"
          ]
        },
        {
          "output_type": "execute_result",
          "data": {
            "text/plain": [
              "0"
            ]
          },
          "metadata": {},
          "execution_count": 3
        }
      ]
    },
    {
      "cell_type": "code",
      "metadata": {
        "id": "T3BUK0XZKhqQ"
      },
      "source": [
        ""
      ],
      "execution_count": null,
      "outputs": []
    }
  ]
}