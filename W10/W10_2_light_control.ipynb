{
  "nbformat": 4,
  "nbformat_minor": 0,
  "metadata": {
    "kernelspec": {
      "display_name": "Python 3",
      "language": "python",
      "name": "python3"
    },
    "language_info": {
      "codemirror_mode": {
        "name": "ipython",
        "version": 3
      },
      "file_extension": ".py",
      "mimetype": "text/x-python",
      "name": "python",
      "nbconvert_exporter": "python",
      "pygments_lexer": "ipython3",
      "version": "3.7.0"
    },
    "colab": {
      "name": "W10-2_light_control.ipynb",
      "provenance": []
    }
  },
  "cells": [
    {
      "cell_type": "markdown",
      "metadata": {
        "id": "qIPJvfePKhp9"
      },
      "source": [
        "## W05-1 : MQTT\n",
        "- 控制設備\n",
        "----"
      ]
    },
    {
      "cell_type": "markdown",
      "metadata": {
        "id": "6av5AptXKhqJ"
      },
      "source": [
        "## push message to control"
      ]
    },
    {
      "cell_type": "code",
      "metadata": {
        "id": "Y58VtmLKKi8K",
        "outputId": "dda2de80-2ddb-40ff-bc8a-c8f89e37428a",
        "colab": {
          "base_uri": "https://localhost:8080/"
        }
      },
      "source": [
        "!pip install paho-mqtt"
      ],
      "execution_count": 1,
      "outputs": [
        {
          "output_type": "stream",
          "name": "stdout",
          "text": [
            "Collecting paho-mqtt\n",
            "  Downloading paho-mqtt-1.6.1.tar.gz (99 kB)\n",
            "\u001b[?25l\r\u001b[K     |███▎                            | 10 kB 17.9 MB/s eta 0:00:01\r\u001b[K     |██████▋                         | 20 kB 24.9 MB/s eta 0:00:01\r\u001b[K     |██████████                      | 30 kB 20.9 MB/s eta 0:00:01\r\u001b[K     |█████████████▏                  | 40 kB 16.8 MB/s eta 0:00:01\r\u001b[K     |████████████████▌               | 51 kB 9.0 MB/s eta 0:00:01\r\u001b[K     |███████████████████▉            | 61 kB 7.4 MB/s eta 0:00:01\r\u001b[K     |███████████████████████         | 71 kB 8.3 MB/s eta 0:00:01\r\u001b[K     |██████████████████████████▍     | 81 kB 9.2 MB/s eta 0:00:01\r\u001b[K     |█████████████████████████████▊  | 92 kB 7.5 MB/s eta 0:00:01\r\u001b[K     |████████████████████████████████| 99 kB 4.5 MB/s \n",
            "\u001b[?25hBuilding wheels for collected packages: paho-mqtt\n",
            "  Building wheel for paho-mqtt (setup.py) ... \u001b[?25l\u001b[?25hdone\n",
            "  Created wheel for paho-mqtt: filename=paho_mqtt-1.6.1-py3-none-any.whl size=62133 sha256=8668e116fc35d04dfedbaba846305c883ac920aeb626b0fa85d4a5522594c60f\n",
            "  Stored in directory: /root/.cache/pip/wheels/d0/bf/ac/2b3f43f8c6fcd0f4ba5395397458c521eb0b52d33b574a5a40\n",
            "Successfully built paho-mqtt\n",
            "Installing collected packages: paho-mqtt\n",
            "Successfully installed paho-mqtt-1.6.1\n"
          ]
        }
      ]
    },
    {
      "cell_type": "code",
      "metadata": {
        "id": "TeAGjF_6KhqL",
        "outputId": "a8df72ea-f838-44cd-d709-f305f2a8e252"
      },
      "source": [
        "# push mqtt msg\n",
        "\n",
        "import paho.mqtt.client as mqtt\n",
        "import time, json, datetime, sys, os\n",
        "import random\n",
        "\n",
        "def on_connect(client, userdata, flags, rc):\n",
        "    m=\"Connected flags\"+str(flags)+\", result code \"+str(rc)+\", client_id  \"+str(client)\n",
        "    print(m)\n",
        "\n",
        "# some online free broker:\n",
        "#   iot.eclipse.org\n",
        "#   test.mosquitto.org\n",
        "#   broker.hivemq.com\n",
        "broker_address = \"broker.hivemq.com\"\n",
        "broker_port = 1883\n",
        "\n",
        "client1 = mqtt.Client()    #create new instance\n",
        "client1.on_connect = on_connect        #attach function to callback\n",
        "\n",
        "time.sleep(0.5)\n",
        "client1.connect(host=broker_address, port=broker_port, keepalive=60)      #connect to broker\n",
        "topic_str = '/malo/home/light'\n",
        "        \n",
        "client1.loop_start()    #start the loop\n",
        "time.sleep(0.5)\n",
        "print(\"loop start\")\n",
        "\n",
        "#-- start to push data\n",
        "for k in range(1, 7):\n",
        "    value = k%2\n",
        "    print('--> push', topic_str, value)\n",
        "    client1.publish(topic_str, value, qos=1)\n",
        "    time.sleep(5)\n",
        "\n",
        "time.sleep(0.1)\n",
        "\n",
        "client1.disconnect()\n"
      ],
      "execution_count": null,
      "outputs": [
        {
          "name": "stdout",
          "output_type": "stream",
          "text": [
            "Connected flags{'session present': 0}, result code 0, client_id  <paho.mqtt.client.Client object at 0x000001CA1B4AE0F0>\n",
            "loop start\n",
            "--> push /malo/home/light 1\n",
            "--> push /malo/home/light 0\n",
            "--> push /malo/home/light 1\n",
            "--> push /malo/home/light 0\n",
            "--> push /malo/home/light 1\n",
            "--> push /malo/home/light 0\n"
          ]
        },
        {
          "data": {
            "text/plain": [
              "0"
            ]
          },
          "execution_count": 7,
          "metadata": {},
          "output_type": "execute_result"
        }
      ]
    },
    {
      "cell_type": "code",
      "metadata": {
        "id": "T3BUK0XZKhqQ"
      },
      "source": [
        ""
      ],
      "execution_count": null,
      "outputs": []
    }
  ]
}