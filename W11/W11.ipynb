{
 "cells": [
  {
   "cell_type": "markdown",
   "metadata": {},
   "source": [
    "# MQTT: 智慧居家控制\n"
   ]
  },
  {
   "cell_type": "markdown",
   "metadata": {},
   "source": [
    "### 把MQTT資訊送上Server(broker)"
   ]
  },
  {
   "cell_type": "code",
   "execution_count": 4,
   "metadata": {},
   "outputs": [],
   "source": [
    "# push mqtt msg\n",
    "\n",
    "import paho.mqtt.client as mqtt\n",
    "import time, json, datetime, sys, os\n",
    "\n",
    "def mqtt_push_data(value):\n",
    "\n",
    "    def on_connect(client, userdata, flags, rc):\n",
    "        m=\"Connected flags\"+str(flags)+\", result code \"+str(rc)+\", client_id  \"+str(client)\n",
    "        print(m)\n",
    "\n",
    "    # some online free broker:\n",
    "    #   iot.eclipse.org\n",
    "    #   test.mosquitto.org\n",
    "    #   broker.hivemq.com\n",
    "    broker_address = \"broker.hivemq.com\"\n",
    "    broker_port = 1883\n",
    "\n",
    "    client1 = mqtt.Client()    #create new instance\n",
    "    client1.on_connect = on_connect        #attach function to callback\n",
    "\n",
    "    time.sleep(0.5)\n",
    "    client1.connect(host=broker_address, port=broker_port, keepalive=60)      #connect to broker\n",
    "    topic_str = '/malo/home/t1'\n",
    "            \n",
    "    client1.loop_start()    #start the loop\n",
    "    time.sleep(0.5)\n",
    "    print(\"loop start\")\n",
    "\n",
    "    #-- start to push data\n",
    "    print('--> push', topic_str, value)\n",
    "    client1.publish(topic_str, value, qos=1)\n",
    "\n",
    "    time.sleep(0.1)\n",
    "\n",
    "    client1.disconnect()\n"
   ]
  },
  {
   "cell_type": "code",
   "execution_count": 6,
   "metadata": {},
   "outputs": [
    {
     "name": "stdout",
     "output_type": "stream",
     "text": [
      "Connected flags{'session present': 0}, result code 0, client_id  <paho.mqtt.client.Client object at 0x0000020E29ECFC18>\n",
      "loop start\n",
      "--> push /malo/home/t1 30\n"
     ]
    }
   ],
   "source": [
    "mqtt_push_data(30)"
   ]
  },
  {
   "cell_type": "code",
   "execution_count": null,
   "metadata": {},
   "outputs": [],
   "source": []
  },
  {
   "cell_type": "markdown",
   "metadata": {},
   "source": [
    "## 控制電燈"
   ]
  },
  {
   "cell_type": "code",
   "execution_count": null,
   "metadata": {},
   "outputs": [],
   "source": []
  },
  {
   "cell_type": "code",
   "execution_count": null,
   "metadata": {},
   "outputs": [],
   "source": []
  },
  {
   "cell_type": "markdown",
   "metadata": {},
   "source": [
    "### 以學號為root topic，接收 /root_topic/t 的資訊，發出訊號控制 /root_topic/fan的電扇"
   ]
  },
  {
   "cell_type": "code",
   "execution_count": null,
   "metadata": {},
   "outputs": [],
   "source": []
  }
 ],
 "metadata": {
  "kernelspec": {
   "display_name": "Python 3",
   "language": "python",
   "name": "python3"
  },
  "language_info": {
   "codemirror_mode": {
    "name": "ipython",
    "version": 3
   },
   "file_extension": ".py",
   "mimetype": "text/x-python",
   "name": "python",
   "nbconvert_exporter": "python",
   "pygments_lexer": "ipython3",
   "version": "3.7.0"
  }
 },
 "nbformat": 4,
 "nbformat_minor": 2
}
