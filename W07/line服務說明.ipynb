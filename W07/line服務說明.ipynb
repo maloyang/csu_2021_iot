{
 "cells": [
  {
   "cell_type": "markdown",
   "metadata": {},
   "source": [
    "----\n",
    "## 雲端應用 - Line平台警報\n",
    "\n",
    "- line 訊息機制說明\n",
    "- line警報訊息實作\n",
    "    - 使用「KHPY課程群組」試著發訊息\n",
    "    - 請學員申請自己的line群組token，或自己的token也行\n",
    "    - 申請連結：https://notify-bot.line.me/my/"
   ]
  },
  {
   "cell_type": "markdown",
   "metadata": {},
   "source": [
    "### 練習：申請自己的line通知服務"
   ]
  },
  {
   "cell_type": "markdown",
   "metadata": {},
   "source": [
    "### line notify申請方式\n",
    "- 請先連至[申請頁面](https://notify-bot.line.me/my/)\n",
    "- 填入個人帳密登入\n",
    "- ![登入頁面](image/line-notify0.png)\n",
    "- 登入後，請點選頁面最下方的「發行權杖」\n",
    "- ![發行權杖](image/line-notify.png)\n",
    "- 選擇群組，以發行權杖\n",
    "- ![選擇群組](image/line-notify2.png)\n",
    "- 點選下方的完成鍵後，可以得到權杖如下，請複製起來，供實作時使用\n",
    "- ![權杖](image/line-notify3.png)\n",
    "- 請把「LINE Notify」加入你的群組中，這樣我們才能使用權杖(token)讓它發出訊息\n",
    "- ![加入群組](image/line-notify4.png)"
   ]
  },
  {
   "cell_type": "markdown",
   "metadata": {},
   "source": [
    "### 練習題：當溫度超過30度時，發出警告訊息"
   ]
  },
  {
   "cell_type": "markdown",
   "metadata": {},
   "source": [
    "### Line 補充教材\n",
    "\n",
    "- [使用Python發Line訊息](line-notify.ipynb)"
   ]
  }
 ],
 "metadata": {
  "kernelspec": {
   "display_name": "MicroPython - USB",
   "language": "micropython",
   "name": "micropython"
  },
  "language_info": {
   "codemirror_mode": "python",
   "file_extension": ".py",
   "mimetype": "text/python",
   "name": "micropython"
  }
 },
 "nbformat": 4,
 "nbformat_minor": 2
}
