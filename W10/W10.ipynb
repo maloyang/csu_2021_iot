{
 "cells": [
  {
   "cell_type": "markdown",
   "metadata": {},
   "source": [
    "# MQTT\n",
    "\n",
    "- MQTT (Message Queue Telemetry Transport)\n",
    "- 為M2M, IOT設計的協定，基於TCP socket，主要是想讓系統資源較低的設備也可以把資料上傳到Server。\n",
    "- 目前已是ISO的一員:\n",
    "    - 2016, MQTT is now an ISO standard (ISO/IEC 20922)\n",
    "- 本次教學中的MQTT雲端服務為Eclipse所提供：\u000b",
    "iot.eclipse.org    \n",
    "- 架構如下：\n",
    "    - 有興趣可以參考此[文章](https://www.javacodegeeks.com/2016/10/mqtt-protocol-tutorial.html)進一步了解\n",
    "![mqtt](https://www.javacodegeeks.com/wp-content/uploads/2016/10/mqtt_publisher_subscriber-1.png)\n"
   ]
  },
  {
   "cell_type": "markdown",
   "metadata": {},
   "source": [
    "# 利用手機和你的IOT設備互動\n"
   ]
  },
  {
   "cell_type": "markdown",
   "metadata": {},
   "source": [
    "----\n",
    "## 圖文併茂的Android手機監控APP - Linear MQTT Dashboard\n",
    "\n",
    "* 先在android play上安裝Linear MQTT Dashboard\n",
    "* 打開APP後的操作流程如下圖：\n",
    "    * Led燈：malo-iot/light\n",
    "    * 溫度：malo-iot/T\n",
    "    * 溼度：malo-iot/H\n",
    "    \n",
    "![linear-mqtt1](image/linear-mqtt.png)"
   ]
  },
  {
   "cell_type": "markdown",
   "metadata": {},
   "source": [
    "### 有資訊push上來後的畫面\n",
    "\n",
    "![linear-mqtt1](image/linear-mqtt2.png)"
   ]
  },
  {
   "cell_type": "markdown",
   "metadata": {},
   "source": [
    "### 把MQTT資訊送上Server(broker)"
   ]
  },
  {
   "cell_type": "code",
   "execution_count": 4,
   "metadata": {},
   "outputs": [],
   "source": [
    "# push mqtt msg\n",
    "\n",
    "import paho.mqtt.client as mqtt\n",
    "import time, json, datetime, sys, os\n",
    "\n",
    "def mqtt_push_data(value):\n",
    "\n",
    "    def on_connect(client, userdata, flags, rc):\n",
    "        m=\"Connected flags\"+str(flags)+\", result code \"+str(rc)+\", client_id  \"+str(client)\n",
    "        print(m)\n",
    "\n",
    "    # some online free broker:\n",
    "    #   iot.eclipse.org\n",
    "    #   test.mosquitto.org\n",
    "    #   broker.hivemq.com\n",
    "    broker_address = \"broker.hivemq.com\"\n",
    "    broker_port = 1883\n",
    "\n",
    "    client1 = mqtt.Client()    #create new instance\n",
    "    client1.on_connect = on_connect        #attach function to callback\n",
    "\n",
    "    time.sleep(0.5)\n",
    "    client1.connect(host=broker_address, port=broker_port, keepalive=60)      #connect to broker\n",
    "    topic_str = '/malo/home/t1'\n",
    "            \n",
    "    client1.loop_start()    #start the loop\n",
    "    time.sleep(0.5)\n",
    "    print(\"loop start\")\n",
    "\n",
    "    #-- start to push data\n",
    "    print('--> push', topic_str, value)\n",
    "    client1.publish(topic_str, value, qos=1)\n",
    "\n",
    "    time.sleep(0.1)\n",
    "\n",
    "    client1.disconnect()\n"
   ]
  },
  {
   "cell_type": "code",
   "execution_count": 6,
   "metadata": {},
   "outputs": [
    {
     "name": "stdout",
     "output_type": "stream",
     "text": [
      "Connected flags{'session present': 0}, result code 0, client_id  <paho.mqtt.client.Client object at 0x0000020E29ECFC18>\n",
      "loop start\n",
      "--> push /malo/home/t1 30\n"
     ]
    }
   ],
   "source": [
    "mqtt_push_data(30)"
   ]
  },
  {
   "cell_type": "code",
   "execution_count": null,
   "metadata": {},
   "outputs": [],
   "source": []
  },
  {
   "cell_type": "markdown",
   "metadata": {},
   "source": [
    "### 練習題：撰寫迴圈，連續送出5個25~35之間的亂數作為溫度值"
   ]
  },
  {
   "cell_type": "code",
   "execution_count": null,
   "metadata": {},
   "outputs": [],
   "source": []
  }
 ],
 "metadata": {
  "kernelspec": {
   "display_name": "Python 3",
   "language": "python",
   "name": "python3"
  },
  "language_info": {
   "codemirror_mode": {
    "name": "ipython",
    "version": 3
   },
   "file_extension": ".py",
   "mimetype": "text/x-python",
   "name": "python",
   "nbconvert_exporter": "python",
   "pygments_lexer": "ipython3",
   "version": "3.7.0"
  }
 },
 "nbformat": 4,
 "nbformat_minor": 2
}
